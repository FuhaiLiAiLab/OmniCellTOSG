{
 "cells": [
  {
   "cell_type": "code",
   "execution_count": 1,
   "metadata": {},
   "outputs": [
    {
     "name": "stdout",
     "output_type": "stream",
     "text": [
      "\n",
      "Checking dataset path: ./CellTOSG_dataset/bone_marrow/general\n",
      "Files in dataset path: ['cellxgene_general_X_partition_0.npy', 'cellxgene_general_X_partition_1.npy', 'cellxgene_general_Y_partition_0.npy', 'cellxgene_general_Y_partition_1.npy', 'geo_general_X_partition_0.npy', 'geo_general_X_partition_1.npy', 'geo_general_Y_partition_0.npy', 'geo_general_Y_partition_1.npy']\n",
      "\n",
      "Sorted X files: ['cellxgene_general_X_partition_0.npy', 'geo_general_X_partition_0.npy', 'cellxgene_general_X_partition_1.npy', 'geo_general_X_partition_1.npy']\n",
      "Sorted Y files: ['cellxgene_general_Y_partition_0.npy', 'geo_general_Y_partition_0.npy', 'cellxgene_general_Y_partition_1.npy', 'geo_general_Y_partition_1.npy']\n",
      "\n",
      "Pairing: cellxgene_general_X_partition_0.npy ↔ cellxgene_general_Y_partition_0.npy\n",
      "Sampling 278 rows from cellxgene_general_X_partition_0.npy\n",
      "\n",
      "Pairing: geo_general_X_partition_0.npy ↔ geo_general_Y_partition_0.npy\n",
      "Sampling 71 rows from geo_general_X_partition_0.npy\n",
      "\n",
      "Pairing: cellxgene_general_X_partition_1.npy ↔ cellxgene_general_Y_partition_1.npy\n",
      "Sampling 278 rows from cellxgene_general_X_partition_1.npy\n",
      "\n",
      "Pairing: geo_general_X_partition_1.npy ↔ geo_general_Y_partition_1.npy\n",
      "Sampling 71 rows from geo_general_X_partition_1.npy\n",
      "Data shuffled.\n",
      "Data Load Done, 698 samples in total.\n"
     ]
    }
   ],
   "source": [
    "from dataset import CellTOSGDataset\n",
    "\n",
    "dataset = CellTOSGDataset(\n",
    "    root=\"./CellTOSG_dataset\",\n",
    "    categories=\"get_organ_disease\",\n",
    "    name=\"bone_marrow-general\",\n",
    "    label_type=\"status\",\n",
    "    seed=2025,\n",
    "    ratio = 0.1,\n",
    "    shuffle=True\n",
    "\n",
    ")\n",
    "\n",
    "xAll = dataset.data\n",
    "yAll = dataset.labels\n",
    "edge_index = dataset.edge_index\n",
    "internal_edge_index = dataset.internal_edge_index\n",
    "ppi_edge_index = dataset.ppi_edge_index\n",
    "s_name = dataset.s_name\n",
    "s_desc = dataset.s_desc\n",
    "\n",
    "print(f\"Data Load Done, {len(xAll)} samples in total.\")"
   ]
  },
  {
   "cell_type": "code",
   "execution_count": 4,
   "metadata": {},
   "outputs": [
    {
     "name": "stdout",
     "output_type": "stream",
     "text": [
      "X: [[0.     0.     0.492  ... 0.     0.     0.    ]\n",
      " [0.     0.     0.     ... 0.     0.     0.    ]\n",
      " [0.     0.     0.     ... 0.     0.     0.    ]\n",
      " ...\n",
      " [0.     0.     1.     ... 0.     0.     0.    ]\n",
      " [0.     0.     0.3018 ... 0.     0.     0.    ]\n",
      " [0.     0.     0.     ... 0.     0.     0.    ]]\n",
      "Y: [0 1 1 1 0 0 0 1 0 0 1 0 1 0 1 1 0 0 0 1 1 1 0 0 1 1 1 1 1 1 0 1 1 0 1 0 1\n",
      " 1 0 0 0 1 1 1 1 1 1 1 0 0 0 0 1 1 0 1 1 1 0 1 1 0 1 1 1 0 0 1 0 0 0 1 1 0\n",
      " 0 0 1 1 1 1 0 0 1 0 0 0 1 1 0 0 0 0 1 0 0 1 1 0 1 1 0 0 0 0 0 0 0 1 0 0 1\n",
      " 1 0 1 0 1 1 1 1 1 0 0 1 0 0 1 0 0 1 0 0 1 1 0 1 0 1 1 0 1 1 1 1 0 0 0 1 0\n",
      " 0 0 1 1 1 1 1 1 0 1 0 1 0 0 1 0 1 1 1 0 0 0 0 1 0 0 0 1 0 0 1 1 1 1 1 1 1\n",
      " 1 0 1 0 1 0 0 0 0 0 1 0 0 0 1 1 0 1 0 0 1 0 1 1 0 1 1 0 0 1 1 0 0 0 1 0 1\n",
      " 1 0 1 0 1 0 0 1 0 1 1 0 1 0 1 1 0 1 0 0 0 0 0 1 1 0 0 0 0 0 0 0 0 1 0 1 0\n",
      " 1 1 0 1 1 0 0 0 0 0 0 1 0 0 0 1 0 1 0 1 1 0 1 1 0 1 1 0 1 1 0 0 1 0 1 1 1\n",
      " 1 1 1 1 0 0 1 1 0 1 1 1 1 1 0 1 1 1 0 1 0 0 1 1 0 1 0 0 1 1 1 0 1 1 1 1 1\n",
      " 1 0 0 0 1 1 0 0 1 1 0 0 0 1 0 1 0 0 0 1 0 0 1 1 0 0 0 0 1 1 0 1 1 0 0 1 1\n",
      " 0 1 0 1 0 0 0 0 1 0 0 1 0 1 0 0 1 0 0 1]\n"
     ]
    }
   ],
   "source": [
    "print(f\"X: {xAll}\")\n",
    "print(f\"Y: {yAll}\")"
   ]
  }
 ],
 "metadata": {
  "kernelspec": {
   "display_name": "win_env",
   "language": "python",
   "name": "python3"
  },
  "language_info": {
   "codemirror_mode": {
    "name": "ipython",
    "version": 3
   },
   "file_extension": ".py",
   "mimetype": "text/x-python",
   "name": "python",
   "nbconvert_exporter": "python",
   "pygments_lexer": "ipython3",
   "version": "3.11.7"
  }
 },
 "nbformat": 4,
 "nbformat_minor": 2
}
