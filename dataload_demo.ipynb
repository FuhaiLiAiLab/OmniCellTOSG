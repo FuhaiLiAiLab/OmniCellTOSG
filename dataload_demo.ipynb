{
 "cells": [
  {
   "cell_type": "markdown",
   "metadata": {},
   "source": [
    "## View Demo"
   ]
  },
  {
   "cell_type": "code",
   "execution_count": null,
   "metadata": {},
   "outputs": [],
   "source": [
    "from CellTOSG_Loader import CellTOSGSubsetBuilder\n",
    "\n",
    "query = CellTOSGSubsetBuilder(root=\"./OmniCellTOSG_v1\")\n",
    "\n",
    "query.view({\n",
    "    \"tissue_general\": \"brain\",\n",
    "    # \"cell_type\": [\"Microglia\", \"Astrocyte\"],\n",
    "    \"disease\": \"Alzheimer's Disease\",\n",
    "    # \"sex\": \"female\"\n",
    "    # \"age\": \"adult\",\n",
    "    # \"source\": \"CellxGene\",\n",
    "})\n"
   ]
  },
  {
   "cell_type": "code",
   "execution_count": null,
   "metadata": {},
   "outputs": [],
   "source": [
    "expression_matrix, label_df = query.extract(\n",
    "    shuffle=True,\n",
    "    balanced=True,\n",
    "    # sample_size=10,\n",
    "    sample_ratio=0.1,\n",
    "    output_dir=\"./output/brain_ad\"\n",
    ")"
   ]
  },
  {
   "cell_type": "code",
   "execution_count": null,
   "metadata": {},
   "outputs": [],
   "source": [
    "print(expression_matrix.shape)\n",
    "\n",
    "print(label_df.head())"
   ]
  },
  {
   "cell_type": "markdown",
   "metadata": {},
   "source": [
    "## Dataset Demo"
   ]
  },
  {
   "cell_type": "code",
   "execution_count": null,
   "metadata": {},
   "outputs": [],
   "source": [
    "from CellTOSG_Loader import CellTOSGDataLoader\n",
    "import numpy as np\n",
    "import pandas as pd\n",
    "import os\n",
    "\n",
    "disease_name = \"Alzheimer's Disease\"  # Change this to your desired disease name\n",
    "data_root = \"/storage1/fs1/fuhai.li/Active/tianqi.x/OmniCellTOSG/dataset_outputs\"\n",
    "mapping_table_path = os.path.join(data_root, \"mapping_table.csv\")\n",
    "\n",
    "dataset = CellTOSGDataLoader(\n",
    "    root=data_root,\n",
    "    conditions={\n",
    "        \"tissue_general\": \"brain\",\n",
    "        # \"tissue\": \"Cerebral cortex\",\n",
    "        # \"cell_type\": \"glutamatergic neuron\",\n",
    "        \"disease\": disease_name,\n",
    "        # \"gender\": \"female\"\n",
    "    },\n",
    "    downstream_task=\"disease\", # One of {\"disease\", \"gender\", \"cell_type\"}.\n",
    "    label_column=\"disease\", # One of {\"disease\", \"gender\", \"cell_type\"}.\n",
    "    sample_ratio=0.01,\n",
    "    sample_size=None,\n",
    "    balanced=True,\n",
    "    shuffle=True,\n",
    "    random_state=2025,\n",
    "    train_text=False,\n",
    "    train_bio=False,\n",
    "    output_dir=\"./Output/data_ad_disease\"  # Change this to your desired output directory\n",
    ")\n",
    "\n",
    "X, Y, metadata = dataset.data, dataset.labels, dataset.metadata\n",
    "\n",
    "# s_name = dataset.s_name\n",
    "# s_desc = dataset.s_desc\n",
    "# s_bio = dataset.s_bio\n",
    "\n",
    "# x_bio_emb = dataset.x_bio_emb\n",
    "\n",
    "# print(f\"s_name shape: {s_name.shape}\")\n",
    "# print(f\"s_desc shape: {s_desc.shape}\")\n",
    "\n",
    "# print(f\"x_bio_emb shape: {x_bio_emb.shape}\")\n",
    "\n",
    "print(metadata)\n"
   ]
  },
  {
   "cell_type": "code",
   "execution_count": null,
   "metadata": {},
   "outputs": [],
   "source": [
    "print(len(metadata[metadata[\"sex_normalized\"] == \"male\"]))\n",
    "print(len(metadata[metadata[\"sex_normalized\"] == \"female\"]))\n",
    "print(len(metadata[metadata[\"sex_normalized\"] == \"unknown\"]))"
   ]
  },
  {
   "cell_type": "code",
   "execution_count": null,
   "metadata": {},
   "outputs": [],
   "source": [
    "from CellTOSG_Loader import CellTOSGDataLoader\n",
    "import numpy as np\n",
    "import pandas as pd\n",
    "import os\n",
    "\n",
    "disease_name = \"Alzheimer's Disease\"  # Change this to your desired disease name\n",
    "data_root = \"./OmniCellTOSG_v1\"\n",
    "\n",
    "dataset = CellTOSGDataLoader(\n",
    "    root=data_root,\n",
    "    conditions={\n",
    "        \"tissue_general\": \"brain\",\n",
    "        \"tissue\": None,\n",
    "        # \"suspension_type\": \"nucleus\",\n",
    "        # \"cell_type\": \"glutamatergic neuron\",\n",
    "        \"disease\": disease_name,\n",
    "        # \"gender\": \"female\"\n",
    "    },\n",
    "    downstream_task=\"disease\", # One of {\"disease\", \"gender\", \"cell_type\"}.\n",
    "    label_column=\"disease\", # One of {\"disease\", \"gender\", \"cell_type\"}.\n",
    "    sample_ratio=0.1,\n",
    "    sample_size=None,\n",
    "    balanced=True,\n",
    "    shuffle=True,\n",
    "    random_state=2025,\n",
    "    train_text=True,\n",
    "    train_bio=False,\n",
    "    output_dir=\"./output/data_ad_disease\"  # Change this to your desired output directory\n",
    ")\n",
    "\n",
    "X, Y, metadata = dataset.data, dataset.labels, dataset.metadata\n",
    "\n",
    "s_name = dataset.s_name\n",
    "s_desc = dataset.s_desc\n",
    "# s_bio = dataset.s_bio\n",
    "\n",
    "x_bio_emb = dataset.x_bio_emb\n",
    "\n",
    "print(f\"s_name shape: {s_name.shape}\")\n",
    "print(f\"s_desc shape: {s_desc.shape}\")\n",
    "\n",
    "print(f\"x_bio_emb shape: {x_bio_emb.shape}\")\n",
    "\n",
    "print(metadata)\n"
   ]
  },
  {
   "cell_type": "code",
   "execution_count": null,
   "metadata": {},
   "outputs": [],
   "source": [
    "print(len(metadata[metadata[\"disease_BMG_name\"] == \"Alzheimer's Disease\"]))\n",
    "print(len(metadata[metadata[\"disease_BMG_name\"] == \"normal\"]))"
   ]
  },
  {
   "cell_type": "code",
   "execution_count": null,
   "metadata": {},
   "outputs": [],
   "source": [
    "print(len(metadata[metadata[\"sex_normalized\"] == \"male\"]))\n",
    "print(len(metadata[metadata[\"sex_normalized\"] == \"female\"]))\n",
    "print(len(metadata[metadata[\"sex_normalized\"] == \"unknown\"]))"
   ]
  },
  {
   "cell_type": "code",
   "execution_count": null,
   "metadata": {},
   "outputs": [],
   "source": [
    "def print_celltype_sex_age_distribution(metadata, label_column=\"label\"):\n",
    "    group_cols = [\"CMT_name\", \"sex_normalized\", \"development_stage_category\", label_column]\n",
    "    grouped = metadata.groupby(group_cols).size().reset_index(name=\"count\")\n",
    "    \n",
    "    print(\"\\n[Distribution Summary]\")\n",
    "    for label in grouped[label_column].unique():\n",
    "        print(f\"\\nLabel: {label}\")\n",
    "        subset = grouped[grouped[label_column] == label]\n",
    "        for _, row in subset.iterrows():\n",
    "            print(f\"  {row['CMT_name']} | {row['sex_normalized']} | {row['development_stage_category']} -> {row['count']}\")\n",
    "\n",
    "print_celltype_sex_age_distribution(metadata, label_column=\"disease_BMG_name\")\n"
   ]
  },
  {
   "cell_type": "code",
   "execution_count": null,
   "metadata": {},
   "outputs": [],
   "source": [
    "from CellTOSG_Loader import CellTOSGDataLoader\n",
    "import numpy as np\n",
    "import pandas as pd\n",
    "import os\n",
    "\n",
    "disease_name = \"Alzheimer's Disease\"  # Change this to your desired disease name\n",
    "data_root = \"./OmniCellTOSG_v1\"\n",
    "\n",
    "dataset = CellTOSGDataLoader(\n",
    "    root=data_root,\n",
    "    conditions={\n",
    "        \"tissue_general\": \"brain\",\n",
    "        # \"tissue\": \"Cerebral cortex\",\n",
    "        # \"suspension_type\": \"nucleus\",\n",
    "        # \"cell_type\": \"glutamatergic neuron\",\n",
    "        \"disease\": disease_name,\n",
    "        # \"gender\": \"female\"\n",
    "    },\n",
    "    downstream_task=\"cell_type\", # One of {\"disease\", \"gender\", \"cell_type\"}.\n",
    "    label_column=\"cell_type\", # One of {\"disease\", \"gender\", \"cell_type\"}.\n",
    "    sample_ratio=0.1,\n",
    "    sample_size=None,\n",
    "    balanced=True,\n",
    "    shuffle=True,\n",
    "    random_state=2025,\n",
    "    train_text=True,\n",
    "    train_bio=False,\n",
    "    output_dir=\"./output/data_ad_cell_type\"  # Change this to your desired output directory\n",
    ")\n",
    "\n",
    "X, Y, metadata = dataset.data, dataset.labels, dataset.metadata\n",
    "\n",
    "s_name = dataset.s_name\n",
    "s_desc = dataset.s_desc\n",
    "# s_bio = dataset.s_bio\n",
    "\n",
    "x_bio_emb = dataset.x_bio_emb\n",
    "\n",
    "print(f\"s_name shape: {s_name.shape}\")\n",
    "print(f\"s_desc shape: {s_desc.shape}\")\n",
    "\n",
    "print(f\"x_bio_emb shape: {x_bio_emb.shape}\")\n",
    "\n",
    "print(metadata)\n"
   ]
  },
  {
   "cell_type": "code",
   "execution_count": null,
   "metadata": {},
   "outputs": [],
   "source": [
    "output_dir=\"./output/data_ad_cell_type\"\n",
    "cell_type_labels = pd.read_csv(os.path.join(output_dir, \"label_mapping_cell_type.csv\"))\n",
    "display(cell_type_labels)"
   ]
  }
 ],
 "metadata": {
  "kernelspec": {
   "display_name": "lab_env_c2",
   "language": "python",
   "name": "python3"
  },
  "language_info": {
   "codemirror_mode": {
    "name": "ipython",
    "version": 3
   },
   "file_extension": ".py",
   "mimetype": "text/x-python",
   "name": "python",
   "nbconvert_exporter": "python",
   "pygments_lexer": "ipython3",
   "version": "3.10.16"
  }
 },
 "nbformat": 4,
 "nbformat_minor": 2
}
