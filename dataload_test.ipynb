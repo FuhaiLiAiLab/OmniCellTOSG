{
 "cells": [
  {
   "cell_type": "code",
   "execution_count": 4,
   "metadata": {},
   "outputs": [
    {
     "name": "stdout",
     "output_type": "stream",
     "text": [
      "Files in dataset path: [\"brain_sc_alzheimer's_disease_X_partition_0.npy\", \"brain_sc_alzheimer's_disease_X_partition_1.npy\", \"brain_sc_alzheimer's_disease_X_partition_2.npy\", \"brain_sc_alzheimer's_disease_Y_partition_0.npy\", \"brain_sc_alzheimer's_disease_Y_partition_1.npy\", \"brain_sc_alzheimer's_disease_Y_partition_2.npy\"]\n",
      "Balancing with general samples for organ: brain (Need 60 samples)\n",
      "Data shuffled.\n",
      "Data Load Done, 120 samples in total.\n"
     ]
    }
   ],
   "source": [
    "from dataset import CellTOSGDataset\n",
    "\n",
    "dataset = CellTOSGDataset(\n",
    "    root=\"./CellTOSG_dataset\",\n",
    "    categories=\"get_organ_disease\",\n",
    "    name=\"brain-AD\",\n",
    "    label_type=\"status\",\n",
    "    seed=2025,\n",
    "    ratio = 0.01,\n",
    "    shuffle=True\n",
    ")\n",
    "\n",
    "xAll = dataset.data\n",
    "yAll = dataset.labels\n",
    "edge_index = dataset.edge_index\n",
    "internal_edge_index = dataset.internal_edge_index\n",
    "ppi_edge_index = dataset.ppi_edge_index\n",
    "s_name = dataset.s_name\n",
    "s_desc = dataset.s_desc\n",
    "\n",
    "print(f\"Data Load Done, {len(xAll)} samples in total.\")"
   ]
  },
  {
   "cell_type": "code",
   "execution_count": 6,
   "metadata": {},
   "outputs": [
    {
     "name": "stdout",
     "output_type": "stream",
     "text": [
      "X: [[0.4111  0.19    0.      ... 0.      0.      0.     ]\n",
      " [0.      0.0901  0.1903  ... 0.      0.      0.     ]\n",
      " [0.3723  0.507   0.2054  ... 0.      0.      0.     ]\n",
      " ...\n",
      " [0.4634  0.07745 0.      ... 0.      0.      0.     ]\n",
      " [0.5337  0.62    0.1855  ... 0.      0.      0.     ]\n",
      " [0.5205  0.4326  0.4287  ... 0.      0.      0.     ]]\n",
      "Y: [0 1 1 0 0 0 0 1 1 0 1 0 1 1 1 0 1 1 0 1 1 1 0 0 0 1 1 1 0 1 1 1 0 1 0 1 0\n",
      " 0 0 1 1 0 0 1 0 1 1 0 1 1 1 0 0 0 1 0 1 0 0 1 0 1 1 0 1 0 1 1 1 0 0 0 1 0\n",
      " 0 1 0 0 0 0 1 1 0 1 0 1 1 1 1 1 0 1 0 1 0 0 1 1 1 0 1 0 0 1 0 1 0 0 1 0 1\n",
      " 1 1 0 0 0 0 0 0 0]\n"
     ]
    }
   ],
   "source": [
    "print(f\"X: {xAll}\")\n",
    "print(f\"Y: {yAll}\")"
   ]
  },
  {
   "cell_type": "code",
   "execution_count": null,
   "metadata": {},
   "outputs": [],
   "source": [
    "from CellTOSG import CellTOSGDataset\n",
    "\n",
    "dataset = CellTOSGDataset(\n",
    "    root=\"./CellTOSG_dataset\",\n",
    "    categories=\"get_organ_disease\",\n",
    "    name=\"bone_marrow-general\",\n",
    "    label_type=\"ct\",\n",
    "    seed=2025,\n",
    "    ratio = 0.1,\n",
    "    shuffle=True\n",
    "\n",
    ")\n",
    "\n",
    "xAll = dataset.data\n",
    "yAll = dataset.labels\n",
    "edge_index = dataset.edge_index\n",
    "internal_edge_index = dataset.internal_edge_index\n",
    "ppi_edge_index = dataset.ppi_edge_index\n",
    "s_name = dataset.s_name\n",
    "s_desc = dataset.s_desc\n",
    "\n",
    "print(f\"Data Load Done, {len(xAll)} samples in total.\")"
   ]
  },
  {
   "cell_type": "code",
   "execution_count": null,
   "metadata": {},
   "outputs": [],
   "source": [
    "print(f\"X: {xAll}\")\n",
    "print(f\"Y: {yAll}\")\n",
    "print(f\"X shape: {xAll.shape}\")"
   ]
  },
  {
   "cell_type": "code",
   "execution_count": 1,
   "metadata": {},
   "outputs": [
    {
     "name": "stdout",
     "output_type": "stream",
     "text": [
      "Files in dataset path: ['acute_myeloid_leukemia_X_partition_0.npy', 'acute_myeloid_leukemia_Y_partition_0.npy']\n",
      "Balancing with general samples for organ: bone_marrow (Need 139 samples)\n",
      "Data shuffled.\n",
      "Data Load Done, 278 samples in total.\n"
     ]
    }
   ],
   "source": [
    "from CellTOSG import CellTOSGDataset\n",
    "\n",
    "dataset = CellTOSGDataset(\n",
    "    root=\"./CellTOSG_dataset\",\n",
    "    categories=\"get_organ_disease\",\n",
    "    name=\"bone_marrow-acute_myeloid_leukemia\",\n",
    "    label_type=\"status\",\n",
    "    seed=2025,\n",
    "    ratio = 1,\n",
    "    shuffle=True\n",
    "\n",
    ")\n",
    "\n",
    "xAll = dataset.data\n",
    "yAll = dataset.labels\n",
    "edge_index = dataset.edge_index\n",
    "internal_edge_index = dataset.internal_edge_index\n",
    "ppi_edge_index = dataset.ppi_edge_index\n",
    "s_name = dataset.s_name\n",
    "s_desc = dataset.s_desc\n",
    "\n",
    "print(f\"Data Load Done, {len(xAll)} samples in total.\")"
   ]
  },
  {
   "cell_type": "code",
   "execution_count": 5,
   "metadata": {},
   "outputs": [
    {
     "name": "stdout",
     "output_type": "stream",
     "text": [
      "X: [[0.     0.     1.395  ... 0.     0.     0.    ]\n",
      " [0.     0.     1.181  ... 0.     0.     0.    ]\n",
      " [0.     0.     0.8    ... 0.     0.     0.    ]\n",
      " ...\n",
      " [0.     0.     0.898  ... 0.     0.     0.    ]\n",
      " [0.     0.     0.4495 ... 0.     0.     0.    ]\n",
      " [0.     0.     1.317  ... 0.     0.     0.    ]]\n",
      "Y: [0 0 0 ... 0 0 0]\n"
     ]
    }
   ],
   "source": [
    "print(f\"X: {xAll}\")\n",
    "print(f\"Y: {yAll}\")"
   ]
  },
  {
   "cell_type": "code",
   "execution_count": null,
   "metadata": {},
   "outputs": [],
   "source": [
    "sample_data, sample_label = dataset[3]\n",
    "print(f\"Sample Data Shape: {sample_data}\")\n",
    "print(f\"Sample Label : {sample_label}\")"
   ]
  },
  {
   "cell_type": "code",
   "execution_count": null,
   "metadata": {},
   "outputs": [],
   "source": [
    "from CellTOSG import CellTOSGDataset\n",
    "\n",
    "dataset = CellTOSGDataset(\n",
    "    root=\"./CellTOSG_dataset\",\n",
    "    categories=\"get_organ_disease\",\n",
    "    name=\"bone_marrow-acute_myeloid_leukemia\",\n",
    "    label_type=\"status\",\n",
    "    shuffle=False\n",
    ")\n",
    "\n",
    "print(f\"Data Load Done, {len(dataset)} samples in total.\")"
   ]
  },
  {
   "cell_type": "code",
   "execution_count": null,
   "metadata": {},
   "outputs": [],
   "source": [
    "sample_data, sample_label = dataset[0]\n",
    "print(f\"Sample Data Shape: {sample_data}\")\n",
    "print(f\"Sample Label : {sample_label}\")"
   ]
  }
 ],
 "metadata": {
  "kernelspec": {
   "display_name": "mkg",
   "language": "python",
   "name": "python3"
  },
  "language_info": {
   "codemirror_mode": {
    "name": "ipython",
    "version": 3
   },
   "file_extension": ".py",
   "mimetype": "text/x-python",
   "name": "python",
   "nbconvert_exporter": "python",
   "pygments_lexer": "ipython3",
   "version": "3.10.14"
  }
 },
 "nbformat": 4,
 "nbformat_minor": 2
}
