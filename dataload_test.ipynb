{
 "cells": [
  {
   "cell_type": "code",
   "execution_count": null,
   "metadata": {},
   "outputs": [
    {
     "name": "stdout",
     "output_type": "stream",
     "text": [
      "Files in dataset path: ['cellxgene_clear_cell_renal_carcinoma_X_partition_0.npy', 'cellxgene_clear_cell_renal_carcinoma_Y_partition_0.npy']\n",
      "Balancing with general samples for organ: kidney (Need 148 samples)\n",
      "Data shuffled.\n",
      "Data Load Done, 296 samples in total.\n"
     ]
    }
   ],
   "source": [
    "from dataset import CellTOSGDataset\n",
    "\n",
    "dataset = CellTOSGDataset(\n",
    "    root=\"./CellTOSG_dataset\",\n",
    "    categories=\"get_organ_disease\",\n",
    "    name=\"lung-SCLC\",\n",
    "    label_type=\"status\",\n",
    "    seed=2025,\n",
    "    ratio = 0.2,\n",
    "    shuffle=True\n",
    ")\n",
    "\n",
    "xAll = dataset.data\n",
    "yAll = dataset.labels\n",
    "edge_index = dataset.edge_index\n",
    "internal_edge_index = dataset.internal_edge_index\n",
    "ppi_edge_index = dataset.ppi_edge_index\n",
    "s_name = dataset.s_name\n",
    "s_desc = dataset.s_desc\n",
    "\n",
    "print(f\"Data Load Done, {len(xAll)} samples in total.\")"
   ]
  },
  {
   "cell_type": "code",
   "execution_count": null,
   "metadata": {},
   "outputs": [],
   "source": [
    "print(f\"X: {xAll}\")\n",
    "print(f\"Y: {yAll}\")"
   ]
  },
  {
   "cell_type": "code",
   "execution_count": null,
   "metadata": {},
   "outputs": [],
   "source": [
    "from dataset import CellTOSGDataset\n",
    "\n",
    "dataset = CellTOSGDataset(\n",
    "    root=\"./CellTOSG_dataset\",\n",
    "    categories=\"get_organ_disease\",\n",
    "    name=\"bone_marrow-general\",\n",
    "    label_type=\"ct\",\n",
    "    seed=2025,\n",
    "    ratio = 0.1,\n",
    "    shuffle=True\n",
    "\n",
    ")\n",
    "\n",
    "xAll = dataset.data\n",
    "yAll = dataset.labels\n",
    "edge_index = dataset.edge_index\n",
    "internal_edge_index = dataset.internal_edge_index\n",
    "ppi_edge_index = dataset.ppi_edge_index\n",
    "s_name = dataset.s_name\n",
    "s_desc = dataset.s_desc\n",
    "\n",
    "print(f\"Data Load Done, {len(xAll)} samples in total.\")"
   ]
  },
  {
   "cell_type": "code",
   "execution_count": null,
   "metadata": {},
   "outputs": [],
   "source": [
    "print(f\"X: {xAll}\")\n",
    "print(f\"Y: {yAll}\")\n",
    "print(f\"X shape: {xAll.shape}\")"
   ]
  },
  {
   "cell_type": "code",
   "execution_count": null,
   "metadata": {},
   "outputs": [],
   "source": [
    "from dataset import CellTOSGDataset\n",
    "\n",
    "dataset = CellTOSGDataset(\n",
    "    root=\"./CellTOSG_dataset\",\n",
    "    categories=\"get_organ_disease\",\n",
    "    name=\"bone_marrow-acute_myeloid_leukemia\",\n",
    "    label_type=\"status\",\n",
    "    seed=2025,\n",
    "    ratio = 1,\n",
    "    shuffle=True\n",
    "\n",
    ")\n",
    "\n",
    "xAll = dataset.data\n",
    "yAll = dataset.labels\n",
    "edge_index = dataset.edge_index\n",
    "internal_edge_index = dataset.internal_edge_index\n",
    "ppi_edge_index = dataset.ppi_edge_index\n",
    "s_name = dataset.s_name\n",
    "s_desc = dataset.s_desc\n",
    "\n",
    "print(f\"Data Load Done, {len(xAll)} samples in total.\")"
   ]
  },
  {
   "cell_type": "code",
   "execution_count": null,
   "metadata": {},
   "outputs": [],
   "source": [
    "print(f\"X: {xAll}\")\n",
    "print(f\"Y: {yAll}\")"
   ]
  },
  {
   "cell_type": "code",
   "execution_count": null,
   "metadata": {},
   "outputs": [],
   "source": [
    "sample_data, sample_label = dataset[3]\n",
    "print(f\"Sample Data Shape: {sample_data}\")\n",
    "print(f\"Sample Label : {sample_label}\")"
   ]
  },
  {
   "cell_type": "code",
   "execution_count": null,
   "metadata": {},
   "outputs": [],
   "source": [
    "from dataset import CellTOSGDataset\n",
    "\n",
    "dataset = CellTOSGDataset(\n",
    "    root=\"./CellTOSG_dataset\",\n",
    "    categories=\"get_organ_disease\",\n",
    "    name=\"bone_marrow-acute_myeloid_leukemia\",\n",
    "    label_type=\"status\",\n",
    "    shuffle=False\n",
    ")\n",
    "\n",
    "print(f\"Data Load Done, {len(dataset)} samples in total.\")"
   ]
  },
  {
   "cell_type": "code",
   "execution_count": null,
   "metadata": {},
   "outputs": [],
   "source": [
    "sample_data, sample_label = dataset[0]\n",
    "print(f\"Sample Data Shape: {sample_data}\")\n",
    "print(f\"Sample Label : {sample_label}\")"
   ]
  }
 ],
 "metadata": {
  "kernelspec": {
   "display_name": "mkg",
   "language": "python",
   "name": "python3"
  },
  "language_info": {
   "codemirror_mode": {
    "name": "ipython",
    "version": 3
   },
   "file_extension": ".py",
   "mimetype": "text/x-python",
   "name": "python",
   "nbconvert_exporter": "python",
   "pygments_lexer": "ipython3",
   "version": "3.11.9"
  }
 },
 "nbformat": 4,
 "nbformat_minor": 2
}
