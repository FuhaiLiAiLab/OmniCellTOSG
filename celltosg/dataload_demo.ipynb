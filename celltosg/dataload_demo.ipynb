{
 "cells": [
  {
   "cell_type": "code",
   "execution_count": null,
   "metadata": {},
   "outputs": [
    {
     "ename": "ModuleNotFoundError",
     "evalue": "No module named 'celltosg'",
     "output_type": "error",
     "traceback": [
      "\u001b[1;31m---------------------------------------------------------------------------\u001b[0m",
      "\u001b[1;31mModuleNotFoundError\u001b[0m                       Traceback (most recent call last)",
      "Cell \u001b[1;32mIn[1], line 3\u001b[0m\n\u001b[0;32m      1\u001b[0m \u001b[38;5;66;03m# from dataset import CellTOSGDataset\u001b[39;00m\n\u001b[1;32m----> 3\u001b[0m \u001b[38;5;28;01mimport\u001b[39;00m \u001b[38;5;21;01mcelltosg\u001b[39;00m\n\u001b[0;32m      5\u001b[0m dataset \u001b[38;5;241m=\u001b[39m CellTOSGDataset(\n\u001b[0;32m      6\u001b[0m     root\u001b[38;5;241m=\u001b[39m\u001b[38;5;124m\"\u001b[39m\u001b[38;5;124m./CellTOSG_dataset\u001b[39m\u001b[38;5;124m\"\u001b[39m,\n\u001b[0;32m      7\u001b[0m     categories\u001b[38;5;241m=\u001b[39m\u001b[38;5;124m\"\u001b[39m\u001b[38;5;124mget_organ_disease\u001b[39m\u001b[38;5;124m\"\u001b[39m,\n\u001b[1;32m   (...)\u001b[0m\n\u001b[0;32m     13\u001b[0m \n\u001b[0;32m     14\u001b[0m )\n\u001b[0;32m     16\u001b[0m xAll \u001b[38;5;241m=\u001b[39m dataset\u001b[38;5;241m.\u001b[39mdata\n",
      "\u001b[1;31mModuleNotFoundError\u001b[0m: No module named 'celltosg'"
     ]
    }
   ],
   "source": [
    "from dataset import CellTOSGDataset\n",
    "\n",
    "dataset = CellTOSGDataset(\n",
    "    root=\"./CellTOSG_dataset\",\n",
    "    categories=\"get_organ_disease\",\n",
    "    name=\"bone_marrow-general\",\n",
    "    label_type=\"status\",\n",
    "    seed=2025,\n",
    "    ratio = 0.1,\n",
    "    shuffle=True\n",
    "\n",
    ")\n",
    "\n",
    "xAll = dataset.data\n",
    "yAll = dataset.labels\n",
    "edge_index = dataset.edge_index\n",
    "internal_edge_index = dataset.internal_edge_index\n",
    "ppi_edge_index = dataset.ppi_edge_index\n",
    "s_name = dataset.s_name\n",
    "s_desc = dataset.s_desc\n",
    "\n",
    "print(f\"Data Load Done, {len(xAll)} samples in total.\")"
   ]
  },
  {
   "cell_type": "code",
   "execution_count": 4,
   "metadata": {},
   "outputs": [
    {
     "name": "stdout",
     "output_type": "stream",
     "text": [
      "X: [[0.     0.     0.492  ... 0.     0.     0.    ]\n",
      " [0.     0.     0.     ... 0.     0.     0.    ]\n",
      " [0.     0.     0.     ... 0.     0.     0.    ]\n",
      " ...\n",
      " [0.     0.     1.     ... 0.     0.     0.    ]\n",
      " [0.     0.     0.3018 ... 0.     0.     0.    ]\n",
      " [0.     0.     0.     ... 0.     0.     0.    ]]\n",
      "Y: [0 1 1 1 0 0 0 1 0 0 1 0 1 0 1 1 0 0 0 1 1 1 0 0 1 1 1 1 1 1 0 1 1 0 1 0 1\n",
      " 1 0 0 0 1 1 1 1 1 1 1 0 0 0 0 1 1 0 1 1 1 0 1 1 0 1 1 1 0 0 1 0 0 0 1 1 0\n",
      " 0 0 1 1 1 1 0 0 1 0 0 0 1 1 0 0 0 0 1 0 0 1 1 0 1 1 0 0 0 0 0 0 0 1 0 0 1\n",
      " 1 0 1 0 1 1 1 1 1 0 0 1 0 0 1 0 0 1 0 0 1 1 0 1 0 1 1 0 1 1 1 1 0 0 0 1 0\n",
      " 0 0 1 1 1 1 1 1 0 1 0 1 0 0 1 0 1 1 1 0 0 0 0 1 0 0 0 1 0 0 1 1 1 1 1 1 1\n",
      " 1 0 1 0 1 0 0 0 0 0 1 0 0 0 1 1 0 1 0 0 1 0 1 1 0 1 1 0 0 1 1 0 0 0 1 0 1\n",
      " 1 0 1 0 1 0 0 1 0 1 1 0 1 0 1 1 0 1 0 0 0 0 0 1 1 0 0 0 0 0 0 0 0 1 0 1 0\n",
      " 1 1 0 1 1 0 0 0 0 0 0 1 0 0 0 1 0 1 0 1 1 0 1 1 0 1 1 0 1 1 0 0 1 0 1 1 1\n",
      " 1 1 1 1 0 0 1 1 0 1 1 1 1 1 0 1 1 1 0 1 0 0 1 1 0 1 0 0 1 1 1 0 1 1 1 1 1\n",
      " 1 0 0 0 1 1 0 0 1 1 0 0 0 1 0 1 0 0 0 1 0 0 1 1 0 0 0 0 1 1 0 1 1 0 0 1 1\n",
      " 0 1 0 1 0 0 0 0 1 0 0 1 0 1 0 0 1 0 0 1]\n"
     ]
    }
   ],
   "source": [
    "print(f\"X: {xAll}\")\n",
    "print(f\"Y: {yAll}\")"
   ]
  }
 ],
 "metadata": {
  "kernelspec": {
   "display_name": "win_env",
   "language": "python",
   "name": "python3"
  },
  "language_info": {
   "codemirror_mode": {
    "name": "ipython",
    "version": 3
   },
   "file_extension": ".py",
   "mimetype": "text/x-python",
   "name": "python",
   "nbconvert_exporter": "python",
   "pygments_lexer": "ipython3",
   "version": "3.11.7"
  }
 },
 "nbformat": 4,
 "nbformat_minor": 2
}
